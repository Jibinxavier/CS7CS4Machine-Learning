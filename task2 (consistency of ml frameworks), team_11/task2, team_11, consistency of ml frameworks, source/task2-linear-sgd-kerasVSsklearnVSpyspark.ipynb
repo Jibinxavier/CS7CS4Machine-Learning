{
 "cells": [
  {
   "cell_type": "code",
   "execution_count": 77,
   "metadata": {
    "collapsed": true
   },
   "outputs": [],
   "source": [
    "import matplotlib.pyplot as plt\n",
    "%matplotlib inline\n",
    "import numpy as np\n",
    "import sklearn  as sk  # namespace conflict with pyspark\n",
    "from sklearn.model_selection import train_test_split\n",
    "from sklearn.metrics import mean_squared_error\n",
    "from sklearn.preprocessing import scale\n",
    "from sklearn.model_selection import KFold , cross_val_score\n",
    "from sklearn.preprocessing import StandardScaler\n",
    "import pandas as pd\n",
    "from helper import *\n",
    "import tensorflow as tf\n",
    "\n",
    "pd.options.display.max_columns = None\n",
    "import findspark\n",
    "import pyspark as pk\n",
    "from pyspark.sql import SQLContext\n",
    "from pyspark.ml.regression import LinearRegression\n",
    "from pyspark.ml.feature import VectorAssembler\n",
    "from pyspark.mllib.regression import LabeledPoint, LinearRegressionWithSGD\n",
    "from pyspark.sql.functions import col\n",
    "\n",
    "from pyspark.ml.linalg import VectorUDT\n",
    "from pyspark.sql.functions import udf\n",
    "from pyspark.ml.evaluation import RegressionEvaluator\n",
    "\n",
    "from keras.layers import Dense\n",
    "from keras.models import Model, Sequential\n",
    "from keras import initializers, optimizers\n",
    "from keras import backend as K\n",
    "\n",
    "from math import sqrt"
   ]
  },
  {
   "cell_type": "markdown",
   "metadata": {},
   "source": [
    "### Frame works used\n",
    "\n",
    "- Keras\n",
    "- Spark\n",
    "- R\n",
    "- Sklearn\n",
    " \n",
    " \n",
    "### Find another dataset  \n",
    "- Maybe housing data set\n",
    "    "
   ]
  },
  {
   "cell_type": "markdown",
   "metadata": {},
   "source": [
    "## Import DataSet"
   ]
  },
  {
   "cell_type": "code",
   "execution_count": 4,
   "metadata": {
    "collapsed": true
   },
   "outputs": [],
   "source": [
    "sumdata_url = \"https://www.dropbox.com/sh/euppz607r6gsen2/AABABUTdx7YqCeBquA1Ky7z8a/The%20SUM%20dataset?dl=1#\"\n",
    "housing_price_url = \"https://www.dropbox.com/sh/euppz607r6gsen2/AAAVLZzU4E7ro0BiRzPG3pP8a/House%20Prices?dl=1\"\n",
    "all_urls = [sumdata_url, housing_price_url]"
   ]
  },
  {
   "cell_type": "code",
   "execution_count": 5,
   "metadata": {
    "collapsed": true
   },
   "outputs": [],
   "source": [
    "get_data(all_urls) # retrieves the data if there is no data folder"
   ]
  },
  {
   "cell_type": "code",
   "execution_count": 40,
   "metadata": {
    "collapsed": true
   },
   "outputs": [],
   "source": [
    "sumdata_noise_path = \"data/with noise/The SUM dataset, with noise.csv\"\n",
    "sumdata_path = \"data/without noise/The SUM dataset, without noise.csv\"\n",
    "housing_price_path = \"data/housing dataset.csv\" # has more than 30 features\n",
    "# need one more\n",
    "# what a brilliant idea to name files with space"
   ]
  },
  {
   "cell_type": "markdown",
   "metadata": {},
   "source": [
    "## Sum Data set size 100,000"
   ]
  },
  {
   "cell_type": "code",
   "execution_count": 41,
   "metadata": {
    "collapsed": true
   },
   "outputs": [],
   "source": [
    "SUM_DATA_SIZE = 100000"
   ]
  },
  {
   "cell_type": "markdown",
   "metadata": {},
   "source": [
    "## Load datasets sum_noise"
   ]
  },
  {
   "cell_type": "code",
   "execution_count": 42,
   "metadata": {},
   "outputs": [
    {
     "data": {
      "text/html": [
       "<div>\n",
       "<style>\n",
       "    .dataframe thead tr:only-child th {\n",
       "        text-align: right;\n",
       "    }\n",
       "\n",
       "    .dataframe thead th {\n",
       "        text-align: left;\n",
       "    }\n",
       "\n",
       "    .dataframe tbody tr th {\n",
       "        vertical-align: top;\n",
       "    }\n",
       "</style>\n",
       "<table border=\"1\" class=\"dataframe\">\n",
       "  <thead>\n",
       "    <tr style=\"text-align: right;\">\n",
       "      <th></th>\n",
       "      <th>Instance</th>\n",
       "      <th>Feature 1</th>\n",
       "      <th>Feature 2</th>\n",
       "      <th>Feature 3</th>\n",
       "      <th>Feature 4</th>\n",
       "      <th>Feature 5 (meaningless but please still use it)</th>\n",
       "      <th>Feature 6</th>\n",
       "      <th>Feature 7</th>\n",
       "      <th>Feature 8</th>\n",
       "      <th>Feature 9</th>\n",
       "      <th>Feature 10</th>\n",
       "      <th>Noisy Target</th>\n",
       "      <th>Noisy Target Class</th>\n",
       "    </tr>\n",
       "  </thead>\n",
       "  <tbody>\n",
       "    <tr>\n",
       "      <th>0</th>\n",
       "      <td>1</td>\n",
       "      <td>62485</td>\n",
       "      <td>58472</td>\n",
       "      <td>84200</td>\n",
       "      <td>86181</td>\n",
       "      <td>75529</td>\n",
       "      <td>136939</td>\n",
       "      <td>150633</td>\n",
       "      <td>230058</td>\n",
       "      <td>246491</td>\n",
       "      <td>257336</td>\n",
       "      <td>1352179</td>\n",
       "      <td>Very Large Number</td>\n",
       "    </tr>\n",
       "  </tbody>\n",
       "</table>\n",
       "</div>"
      ],
      "text/plain": [
       "   Instance  Feature 1  Feature 2  Feature 3  Feature 4  \\\n",
       "0         1      62485      58472      84200      86181   \n",
       "\n",
       "   Feature 5 (meaningless but please still use it)  Feature 6  Feature 7  \\\n",
       "0                                            75529     136939     150633   \n",
       "\n",
       "   Feature 8  Feature 9  Feature 10  Noisy Target Noisy Target Class  \n",
       "0     230058     246491      257336       1352179  Very Large Number  "
      ]
     },
     "execution_count": 42,
     "metadata": {},
     "output_type": "execute_result"
    }
   ],
   "source": [
    "sumdata_noise = pd.read_csv(sumdata_noise_path, delimiter=\";\")\n",
    "sumdata_noise = sumdata_noise.head(n=SUM_DATA_SIZE)\n",
    "sumdata_noise.head(n=1)"
   ]
  },
  {
   "cell_type": "markdown",
   "metadata": {},
   "source": [
    "## Preprocess sum_noise dataset\n",
    "\n",
    "- Remove 'Instance' as it simply represents the row number\n",
    "- Extract 'Nosiy Target' as regression target\n",
    "- Extract 'Nosiy Class' as classification target\n",
    "- Extract rest columns as explananatory variables\n",
    "- Apply Feature Scaling to the dataset \n",
    "\n",
    "- Ensure all dataframe has been converted to numpy array\n"
   ]
  },
  {
   "cell_type": "markdown",
   "metadata": {},
   "source": [
    "### Create same base line for Spark, Keras, Sklearn implementation\n",
    "- Using the same feature scaled data for all implementation\n",
    "- Same number iterations\n",
    "- Same cost function for minimising(for gradient descent)"
   ]
  },
  {
   "cell_type": "code",
   "execution_count": 43,
   "metadata": {
    "collapsed": true
   },
   "outputs": [],
   "source": [
    "# Remove 'Instance' as it simply represents the row number\n",
    "\n",
    "from sklearn import preprocessing\n",
    "le = preprocessing.LabelEncoder()\n",
    "\n",
    "sumdata_noise.drop('Instance', axis = 1)\n",
    "\n",
    "# Extract 'Nosiy Target' as regression target\n",
    "sumdata_noise_reg_Y = sumdata_noise.loc[:, ['Noisy Target']]\n",
    "# Extract 'Nosiy Target Class' as regression target\n",
    "sumdata_noise_classif_Y = sumdata_noise.loc[:, ['Noisy Target Class']] \n",
    " \n",
    " \n",
    " \n",
    "sumdata_noise_classif_Y ['Noisy Target Class'] = le.fit_transform( sumdata_noise_classif_Y ['Noisy Target Class'].astype('str')) \n",
    " \n",
    "# Extract rest columns as explananatory variables\n",
    "sumdata_noise_X =sumdata_noise.drop(['Instance','Noisy Target Class','Noisy Target'\n",
    "                                    ], axis = 1) \n",
    "# our SPARK NEEDS target column to be named \"label\"\n",
    "sumdata_noise_reg_Y.rename(columns={'Noisy Target': 'label'}, inplace=True)\n",
    "sumdata_noise_classif_Y.rename(columns={'Noisy Target Class': 'label'}, inplace=True)\n",
    "\n"
   ]
  },
  {
   "cell_type": "markdown",
   "metadata": {},
   "source": [
    "### Feature scaling\n",
    "- Keeping them as dataframes (transform returns ndarray)"
   ]
  },
  {
   "cell_type": "code",
   "execution_count": 44,
   "metadata": {
    "collapsed": true
   },
   "outputs": [],
   "source": [
    "scX = StandardScaler()\n",
    "scY = StandardScaler()\n",
    "columns = sumdata_noise_X.columns\n",
    "\n",
    "sumdata_noise_X[columns] =  scX.fit_transform(sumdata_noise_X)\n",
    "columns = sumdata_noise_reg_Y.columns\n",
    "sumdata_noise_reg_Y[columns] = scX.fit_transform(sumdata_noise_reg_Y)\n",
    "\n",
    "\n",
    "sumdata_noise_scaled = pd.concat([sumdata_noise_X,sumdata_noise_reg_Y])"
   ]
  },
  {
   "cell_type": "markdown",
   "metadata": {},
   "source": [
    "### Linear Regression using pyspark"
   ]
  },
  {
   "cell_type": "code",
   "execution_count": 14,
   "metadata": {
    "collapsed": true
   },
   "outputs": [],
   "source": [
    "sc = pyspark.SparkContext()\n",
    "sqlContext = SQLContext(sc)"
   ]
  },
  {
   "cell_type": "code",
   "execution_count": 97,
   "metadata": {
    "collapsed": true
   },
   "outputs": [],
   "source": [
    "def spark_linear_regression( X_train, X_test, y_train, y_test):\n",
    "    \"\"\"\n",
    "        learning rate: cant configure it\n",
    "        epochs: 10 (maxiter)\n",
    "        batch size 1 \n",
    "        objective function is ordinary least squared error\n",
    "        root mean squared error for evaluating testdata\n",
    "    \"\"\"\n",
    "    from pyspark.ml import Pipeline  \n",
    "    X_train.reset_index(drop=True, inplace=True)\n",
    "    y_train.reset_index(drop=True, inplace=True)\n",
    "    \n",
    "    X_test.reset_index(drop=True, inplace=True)\n",
    "    y_test.reset_index(drop=True, inplace=True)\n",
    "    \n",
    "    train_data = pd.concat([X_train,y_train], axis =1)\n",
    "    test_data  = pd.concat([X_test,y_test], axis =1)\n",
    "    \n",
    " \n",
    "    train_data = sqlContext.createDataFrame(train_data)\n",
    "    test_data = sqlContext.createDataFrame(test_data) \n",
    "   \n",
    "   \n",
    "    assembler = (VectorAssembler()\n",
    "        .setInputCols(train_data.columns[:-1]) # everything excluding target\n",
    "        .setOutputCol(\"features\"))\n",
    " \n",
    "    lr = pk.ml.regression.LinearRegression(maxIter=10)\n",
    "\n",
    "    pipeline = Pipeline(stages=[assembler, lr])\n",
    "    model = pipeline.fit(train_data)\n",
    "    \n",
    "    \n",
    "    predictions = model.transform(test_data) \n",
    "    \n",
    "    #predictions.select(\"predictions\", \"label\").toPandas()  \n",
    "    evaluator = RegressionEvaluator(metricName=\"rmse\")\n",
    "    RMSE = evaluator.evaluate(predictions)\n",
    "    evaluator = RegressionEvaluator(metricName=\"mae\")\n",
    "    MAE = evaluator.evaluate(predictions)\n",
    "  \n",
    "    return RMSE,MAE\n",
    "    "
   ]
  },
  {
   "cell_type": "code",
   "execution_count": 112,
   "metadata": {
    "collapsed": true
   },
   "outputs": [],
   "source": [
    "def root_mean_squared_error(y_true, y_pred):\n",
    "    return K.sqrt(K.mean(K.square(y_pred - y_true), axis=-1)) \n",
    "def ols_error(y_true, y_pred):\n",
    "    return K.sum(K.square(y_pred - y_true), axis=-1)\n",
    "\n",
    "def keras_linear_regression(X_train, X_test, y_train, y_test):\n",
    "    \"\"\"\n",
    "        learning rate 0.001\n",
    "        epochs 10\n",
    "        batch size 1 \n",
    "        objective function is ordinary least squared error\n",
    "        root mean squared error for evaluating testdata\n",
    "    \"\"\"\n",
    "    X_train = X_train.as_matrix()\n",
    "    X_test = X_test.as_matrix()\n",
    "    y_train = y_train.as_matrix()\n",
    "    y_test = y_test.as_matrix()\n",
    "    \n",
    "    cols = X_train.shape[1] # no of training examples\n",
    "    \n",
    "    model = Sequential([\n",
    "        Dense(1, activation='linear', input_dim=cols)\n",
    "    ])\n",
    "\n",
    "\n",
    "    sgd=optimizers.SGD(lr=0.001)\n",
    "    model.compile(optimizer=sgd ,loss=ols_error)\n",
    "    model.fit(X_train,y_train, epochs=10, shuffle=False, verbose=0)\n",
    "    preds = model.predict( X_test, verbose=0)\n",
    "    \n",
    "    mae =  sk.metrics.mean_absolute_error(y_test, preds)\n",
    "    rmse = sk.metrics.mean_squared_error(y_test, preds)**0.5\n",
    " \n",
    "    return (rmse,mae)"
   ]
  },
  {
   "cell_type": "code",
   "execution_count": 105,
   "metadata": {
    "collapsed": true
   },
   "outputs": [],
   "source": [
    "def sklearn_linear_regression( X_train, X_test, y_train, y_test): \n",
    "    \"\"\"\n",
    "        learning rate 0.001\n",
    "        epochs 10\n",
    "        batch size 1\n",
    "        objective function is ordinary least squared error\n",
    "        root mean squared error for evaluating testdata\n",
    "       \n",
    "    \"\"\"\n",
    "    clf = sk.linear_model.SGDRegressor(learning_rate='constant', eta0=0.001,n_iter=10)\n",
    "    model = clf.fit(X_train, y_train)\n",
    "    preds = model.predict(X_test)\n",
    "    mae =  sk.metrics.mean_absolute_error(y_test, preds)\n",
    "    rmse = sk.metrics.mean_squared_error(y_test, preds)**0.5\n",
    "    return (rmse,mae)"
   ]
  },
  {
   "cell_type": "code",
   "execution_count": 86,
   "metadata": {
    "collapsed": true
   },
   "outputs": [],
   "source": [
    "def model_cross_validation( X, y, dataset_name, kfolds,algorithm): \n",
    "    kf = KFold(n_splits=kfolds)\n",
    "    rmse = np.zeros((kfolds,1))\n",
    "    mae = np.zeros((kfolds,1))\n",
    "     \n",
    "    \n",
    "    algorithm_n = algorithm.__name__ \n",
    " \n",
    "\n",
    "    for (i, (train_index, test_index)) in enumerate(kf.split(X)):\n",
    "\n",
    "\n",
    "        X_train, X_test = X.iloc[train_index], X.iloc[test_index]\n",
    "        y_train, y_test = y.iloc[train_index], y.iloc[test_index]\n",
    "        \n",
    "        \n",
    "\n",
    "        # accumulating errors for each fold \n",
    "       \n",
    "       \n",
    "        rmse[i], mae[i] = algorithm( X_train, X_test, y_train, y_test)   # RMSE https://www.kaggle.com/wiki/RootMeanSquaredError\n",
    "    # calculates mean across rows\n",
    "    print (\"Dataset: {}\\nRMSE: {}\\nMAE: {}\\n\".format( dataset_name, rmse.mean(), mae.mean()))\n",
    "        "
   ]
  },
  {
   "cell_type": "code",
   "execution_count": 87,
   "metadata": {},
   "outputs": [
    {
     "name": "stderr",
     "output_type": "stream",
     "text": [
      "/home/jibin/anaconda3/lib/python3.6/site-packages/sklearn/utils/validation.py:526: DataConversionWarning: A column-vector y was passed when a 1d array was expected. Please change the shape of y to (n_samples, ), for example using ravel().\n",
      "  y = column_or_1d(y, warn=True)\n"
     ]
    },
    {
     "name": "stdout",
     "output_type": "stream",
     "text": [
      "Dataset: Sum data with noise\n",
      "RMSE: 0.12082316746374525\n",
      "MAE: 0.09157470959364587\n",
      "\n"
     ]
    }
   ],
   "source": [
    "model_cross_validation( sumdata_noise_X, sumdata_noise_reg_Y, \"Sum data with noise\",10 ,sklearn_linear_regression)"
   ]
  },
  {
   "cell_type": "code",
   "execution_count": 103,
   "metadata": {},
   "outputs": [
    {
     "name": "stdout",
     "output_type": "stream",
     "text": [
      "Dataset: Sum data with noise\n",
      "RMSE: 0.11997793554549654\n",
      "MAE: 0.089825622765171\n",
      "\n"
     ]
    }
   ],
   "source": [
    "model_cross_validation( sumdata_noise_X, sumdata_noise_reg_Y, \"Sum data with noise\",10 , spark_linear_regression)"
   ]
  },
  {
   "cell_type": "code",
   "execution_count": 104,
   "metadata": {},
   "outputs": [
    {
     "name": "stdout",
     "output_type": "stream",
     "text": [
      "Dataset: Sum data with noise\n",
      "RMSE: 0.12099053657889425\n",
      "MAE: 0.09056510972566621\n",
      "\n"
     ]
    }
   ],
   "source": [
    "model_cross_validation( sumdata_noise_X, sumdata_noise_reg_Y, \"Sum data with noise\",10, keras_linear_regression)"
   ]
  },
  {
   "cell_type": "markdown",
   "metadata": {
    "collapsed": true
   },
   "source": [
    "### 70/30 split "
   ]
  },
  {
   "cell_type": "code",
   "execution_count": 109,
   "metadata": {
    "collapsed": true
   },
   "outputs": [],
   "source": [
    "def model_test_split( X, y, dataset_name, algorithm): \n",
    "    algorithm_n = algorithm.__name__\n",
    "\n",
    "    \n",
    "    X_train, X_test, y_train, y_test = train_test_split(X, y, test_size=0.30)\n",
    "    rmse,mae = algorithm( X_train, X_test, y_train, y_test)              \n",
    "    print (\"Algorithm: {}\\nDataset: {}\\nRMSE: {}\\nMAE: {}\\n\".format( algorithm_n,\n",
    "                                                                     dataset_name,\n",
    "                                                                     rmse,\n",
    "                                                                     mae))"
   ]
  },
  {
   "cell_type": "code",
   "execution_count": 110,
   "metadata": {},
   "outputs": [
    {
     "name": "stdout",
     "output_type": "stream",
     "text": [
      "Algorithm: sklearn_linear_regression\n",
      "Dataset: Sum data with noise\n",
      "RMSE: 0.12022280408086701\n",
      "MAE: 0.09026104039063863\n",
      "\n"
     ]
    },
    {
     "name": "stderr",
     "output_type": "stream",
     "text": [
      "/home/jibin/anaconda3/lib/python3.6/site-packages/sklearn/utils/validation.py:526: DataConversionWarning: A column-vector y was passed when a 1d array was expected. Please change the shape of y to (n_samples, ), for example using ravel().\n",
      "  y = column_or_1d(y, warn=True)\n"
     ]
    }
   ],
   "source": [
    "model_test_split( sumdata_noise_X, sumdata_noise_reg_Y, \"Sum data with noise\", sklearn_linear_regression)"
   ]
  },
  {
   "cell_type": "code",
   "execution_count": 111,
   "metadata": {},
   "outputs": [
    {
     "name": "stdout",
     "output_type": "stream",
     "text": [
      "Algorithm: spark_linear_regression\n",
      "Dataset: Sum data with noise\n",
      "RMSE: 0.11993502599931348\n",
      "MAE: 0.089765625839784\n",
      "\n"
     ]
    }
   ],
   "source": [
    "model_test_split( sumdata_noise_X, sumdata_noise_reg_Y, \"Sum data with noise\", spark_linear_regression)"
   ]
  },
  {
   "cell_type": "code",
   "execution_count": 113,
   "metadata": {},
   "outputs": [
    {
     "name": "stdout",
     "output_type": "stream",
     "text": [
      "Algorithm: keras_linear_regression\n",
      "Dataset: Sum data with noise\n",
      "RMSE: 0.12412924843785682\n",
      "MAE: 0.09206387844999342\n",
      "\n"
     ]
    }
   ],
   "source": [
    "model_test_split( sumdata_noise_X, sumdata_noise_reg_Y, \"Sum data with noise\", keras_linear_regression)"
   ]
  },
  {
   "cell_type": "code",
   "execution_count": null,
   "metadata": {
    "collapsed": true
   },
   "outputs": [],
   "source": []
  }
 ],
 "metadata": {
  "kernelspec": {
   "display_name": "Python 3",
   "language": "python",
   "name": "python3"
  },
  "language_info": {
   "codemirror_mode": {
    "name": "ipython",
    "version": 3
   },
   "file_extension": ".py",
   "mimetype": "text/x-python",
   "name": "python",
   "nbconvert_exporter": "python",
   "pygments_lexer": "ipython3",
   "version": "3.6.2"
  }
 },
 "nbformat": 4,
 "nbformat_minor": 2
}

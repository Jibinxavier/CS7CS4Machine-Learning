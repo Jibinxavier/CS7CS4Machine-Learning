{
 "cells": [
  {
   "cell_type": "code",
   "execution_count": 1,
   "metadata": {},
   "outputs": [],
   "source": [
    "import matplotlib.pyplot as plt\n",
    "%matplotlib inline\n",
    "import numpy as np\n",
    "import sklearn.linear_model  as sk  # namespace conflict with pyspark\n",
    "from sklearn.model_selection import train_test_split\n",
    "from sklearn.metrics import mean_squared_error\n",
    "from sklearn.preprocessing import scale\n",
    "from sklearn.model_selection import KFold , cross_val_score\n",
    "\n",
    "import pandas as pd\n",
    "from helper import *\n",
    "import tensorflow as tf\n",
    "\n",
    "pd.options.display.max_columns = None\n",
    "import findspark\n",
    "import pyspark\n",
    "from pyspark.sql import SQLContext\n",
    "from pyspark.ml.regression import LinearRegression\n",
    "from pyspark.ml.feature import VectorAssembler\n",
    "from pyspark.mllib.regression import LabeledPoint\n",
    "from pyspark.sql.functions import col\n",
    "\n",
    "from pyspark.ml.linalg import VectorUDT\n",
    "from pyspark.sql.functions import udf\n",
    "from pyspark.ml.evaluation import RegressionEvaluator\n",
    "\n"
   ]
  },
  {
   "cell_type": "markdown",
   "metadata": {},
   "source": [
    "## Import DataSet"
   ]
  },
  {
   "cell_type": "code",
   "execution_count": 2,
   "metadata": {
    "collapsed": true
   },
   "outputs": [],
   "source": [
    "sumdata_url = \"https://www.dropbox.com/sh/euppz607r6gsen2/AABABUTdx7YqCeBquA1Ky7z8a/The%20SUM%20dataset?dl=1#\"\n",
    "housing_price_url = \"https://www.dropbox.com/sh/euppz607r6gsen2/AAAVLZzU4E7ro0BiRzPG3pP8a/House%20Prices?dl=1\"\n",
    "all_urls = [sumdata_url, housing_price_url]"
   ]
  },
  {
   "cell_type": "code",
   "execution_count": 3,
   "metadata": {
    "collapsed": true
   },
   "outputs": [],
   "source": [
    "get_data(all_urls) # retrieves the data if there is no data folder"
   ]
  },
  {
   "cell_type": "code",
   "execution_count": 4,
   "metadata": {
    "collapsed": true
   },
   "outputs": [],
   "source": [
    "sumdata_noise_path = \"data/with noise/The SUM dataset, with noise.csv\"\n",
    "sumdata_path = \"data/without noise/The SUM dataset, without noise.csv\"\n",
    "housing_price_path = \"data/housing dataset.csv\" # has more than 30 features\n",
    "# need one more\n",
    "# what a brilliant idea to name files with space"
   ]
  },
  {
   "cell_type": "code",
   "execution_count": 5,
   "metadata": {
    "collapsed": true
   },
   "outputs": [],
   "source": [
    "data_chunks = [100, 500, 1000, 5000, 10000, 50000, 100000, 500000,\n",
    "1000000, 5000000, 10000000, 50000000, 100000000]"
   ]
  },
  {
   "cell_type": "markdown",
   "metadata": {},
   "source": [
    "## Load datasets sum_noise"
   ]
  },
  {
   "cell_type": "code",
   "execution_count": 6,
   "metadata": {},
   "outputs": [
    {
     "data": {
      "text/html": [
       "<div>\n",
       "<style>\n",
       "    .dataframe thead tr:only-child th {\n",
       "        text-align: right;\n",
       "    }\n",
       "\n",
       "    .dataframe thead th {\n",
       "        text-align: left;\n",
       "    }\n",
       "\n",
       "    .dataframe tbody tr th {\n",
       "        vertical-align: top;\n",
       "    }\n",
       "</style>\n",
       "<table border=\"1\" class=\"dataframe\">\n",
       "  <thead>\n",
       "    <tr style=\"text-align: right;\">\n",
       "      <th></th>\n",
       "      <th>Instance</th>\n",
       "      <th>Feature 1</th>\n",
       "      <th>Feature 2</th>\n",
       "      <th>Feature 3</th>\n",
       "      <th>Feature 4</th>\n",
       "      <th>Feature 5 (meaningless but please still use it)</th>\n",
       "      <th>Feature 6</th>\n",
       "      <th>Feature 7</th>\n",
       "      <th>Feature 8</th>\n",
       "      <th>Feature 9</th>\n",
       "      <th>Feature 10</th>\n",
       "      <th>Noisy Target</th>\n",
       "      <th>Noisy Target Class</th>\n",
       "    </tr>\n",
       "  </thead>\n",
       "  <tbody>\n",
       "    <tr>\n",
       "      <th>0</th>\n",
       "      <td>1</td>\n",
       "      <td>62485</td>\n",
       "      <td>58472</td>\n",
       "      <td>84200</td>\n",
       "      <td>86181</td>\n",
       "      <td>75529</td>\n",
       "      <td>136939</td>\n",
       "      <td>150633</td>\n",
       "      <td>230058</td>\n",
       "      <td>246491</td>\n",
       "      <td>257336</td>\n",
       "      <td>1352179</td>\n",
       "      <td>Very Large Number</td>\n",
       "    </tr>\n",
       "  </tbody>\n",
       "</table>\n",
       "</div>"
      ],
      "text/plain": [
       "   Instance  Feature 1  Feature 2  Feature 3  Feature 4  \\\n",
       "0         1      62485      58472      84200      86181   \n",
       "\n",
       "   Feature 5 (meaningless but please still use it)  Feature 6  Feature 7  \\\n",
       "0                                            75529     136939     150633   \n",
       "\n",
       "   Feature 8  Feature 9  Feature 10  Noisy Target Noisy Target Class  \n",
       "0     230058     246491      257336       1352179  Very Large Number  "
      ]
     },
     "execution_count": 6,
     "metadata": {},
     "output_type": "execute_result"
    }
   ],
   "source": [
    "sumdata_noise = pd.read_csv(sumdata_noise_path, delimiter=\";\")\n",
    "sumdata_noise.head(n=1)"
   ]
  },
  {
   "cell_type": "markdown",
   "metadata": {},
   "source": [
    "## Preprocess sum_noise dataset\n",
    "\n",
    "- Remove 'Instance' as it simply represents the row number\n",
    "- Extract 'Nosiy Target' as regression target\n",
    "- Extract 'Nosiy Class' as classification target\n",
    "- Extract rest columns as explananatory variables\n",
    "- Apply Feature Scaling to the dataset \n",
    "\n",
    "- Ensure all dataframe has been converted to numpy array\n"
   ]
  },
  {
   "cell_type": "code",
   "execution_count": 7,
   "metadata": {
    "collapsed": true
   },
   "outputs": [],
   "source": [
    "# Remove 'Instance' as it simply represents the row number\n",
    "sumdata_noise.drop('Instance', axis = 1)\n",
    "\n",
    "# Extract 'Nosiy Target' as regression target\n",
    "sumdata_noise_reg_Y = sumdata_noise[['Noisy Target']]\n",
    "\n",
    "# Extract 'Nosiy Target Class' as regression target\n",
    "sumdata_noise_classif_Y = sumdata_noise['Noisy Target Class']\n",
    "\n",
    "# Extract rest columns as explananatory variables\n",
    "sumdata_noise_X = sumdata_noise.iloc[:, 1:-2]\n"
   ]
  },
  {
   "cell_type": "markdown",
   "metadata": {},
   "source": [
    "### Linear Regression using pyspark"
   ]
  },
  {
   "cell_type": "code",
   "execution_count": 8,
   "metadata": {},
   "outputs": [],
   "source": [
    "sc = pyspark.SparkContext()\n",
    "sqlContext = SQLContext(sc)\n"
   ]
  },
  {
   "cell_type": "code",
   "execution_count": 9,
   "metadata": {
    "collapsed": true
   },
   "outputs": [],
   "source": [
    "def spark_linear_regression(data_df):\n",
    "    input_features = list(sumdata_noise.columns)[:-2]\n",
    "    ouput_label = list(sumdata_noise.columns)[-2]\n",
    "    \n",
    "    data = data_df.select(input_features)\\\n",
    "      .rdd\\\n",
    "      .map(lambda line:LabeledPoint(line[-1],line[1:-1]))\\\n",
    "      .toDF()\n",
    "    \n",
    "\n",
    "    as_ml = udf(lambda v: v.asML() if v is not None else None, VectorUDT())\n",
    "    result = data.withColumn(\"features\", as_ml(\"features\"))\n",
    "    result\n",
    "    \n",
    "    lr = LinearRegression()\n",
    "\n",
    "    # Fit 2 models, using different regularization parameters\n",
    "    modelA = lr.fit(result, {lr.regParam:0.0})\n",
    "    modelB = lr.fit(result, {lr.regParam:100.0})\n",
    "    \n",
    "    \n",
    "    predictionsA = modelA.transform(result)\n",
    "    \n",
    "    evaluator = RegressionEvaluator(metricName=\"rmse\")\n",
    "    RMSE = evaluator.evaluate(predictionsA)\n",
    "    print(\"ModelA: Root Mean Squared Error = \" + str(RMSE))\n",
    "    \n",
    "    predictionsB = modelB.transform(result)\n",
    "    RMSE = evaluator.evaluate(predictionsB)\n",
    "    print(\"ModelB: Root Mean Squared Error = \" + str(RMSE))\n",
    "    \n",
    "    "
   ]
  },
  {
   "cell_type": "markdown",
   "metadata": {},
   "source": [
    "##### http://www.techpoweredmath.com/spark-dataframes-mllib-tutorial/"
   ]
  },
  {
   "cell_type": "code",
   "execution_count": 10,
   "metadata": {
    "scrolled": true
   },
   "outputs": [
    {
     "name": "stdout",
     "output_type": "stream",
     "text": [
      "ModelA: Root Mean Squared Error = 29994.98295477741\n",
      "ModelB: Root Mean Squared Error = 29995.495963804056\n",
      "\n",
      "\n",
      "ModelA: Root Mean Squared Error = 35363.91547804415\n",
      "ModelB: Root Mean Squared Error = 35363.935233735705\n",
      "\n",
      "\n",
      "ModelA: Root Mean Squared Error = 36048.77754652797\n",
      "ModelB: Root Mean Squared Error = 36048.79449789701\n",
      "\n",
      "\n",
      "ModelA: Root Mean Squared Error = 36889.46923972959\n",
      "ModelB: Root Mean Squared Error = 36889.47349008666\n",
      "\n",
      "\n",
      "ModelA: Root Mean Squared Error = 37106.186105335706\n",
      "ModelB: Root Mean Squared Error = 37106.19101330212\n",
      "\n",
      "\n",
      "ModelA: Root Mean Squared Error = 37230.684205932084\n",
      "ModelB: Root Mean Squared Error = 37230.68686383835\n",
      "\n",
      "\n",
      "ModelA: Root Mean Squared Error = 37261.41169641615\n",
      "ModelB: Root Mean Squared Error = 37261.414192842225\n",
      "\n",
      "\n",
      "ModelA: Root Mean Squared Error = 37393.11522513877\n",
      "ModelB: Root Mean Squared Error = 37393.11745350653\n",
      "\n",
      "\n"
     ]
    }
   ],
   "source": [
    "for chunk in data_chunks:\n",
    "\n",
    "    if chunk > sumdata_noise.shape[0]: # if chunk is greater than the no. of examples\n",
    "        break\n",
    "        \n",
    "    data = sumdata_noise[:chunk]\n",
    "    data.drop('Noisy Target Class', axis=1)\n",
    "    data_df = sqlContext.createDataFrame(data)\n",
    "     \n",
    "    \n",
    "    spark_linear_regression(data_df)\n",
    "    print(\"\\n\")\n"
   ]
  },
  {
   "cell_type": "code",
   "execution_count": null,
   "metadata": {
    "collapsed": true
   },
   "outputs": [],
   "source": []
  },
  {
   "cell_type": "markdown",
   "metadata": {},
   "source": [
    "### Linear regression using scikit learn"
   ]
  },
  {
   "cell_type": "code",
   "execution_count": 11,
   "metadata": {
    "collapsed": true
   },
   "outputs": [],
   "source": [
    "def model( data_x, data_y,  data_set, algorithm=sk.LinearRegression): \n",
    "    \n",
    "    algo_name = algorithm.__name__\n",
    "    \n",
    "    for chunk in data_chunks:\n",
    "\n",
    "        if chunk > sumdata_noise.shape[0]: # if chunk is greater than the no. of examples\n",
    "            break\n",
    "\n",
    "        X = data_x.head(n = chunk)\n",
    "        y = data_y.head(n = chunk)\n",
    "        \n",
    "        X = X.as_matrix()\n",
    "        y = y.as_matrix()\n",
    "        # this one randomises\n",
    "        #X_train, X_test, y_train, y_test = train_test_split(X, y, test_size=0.2)\n",
    "        #train_prop = int(chunk*.80) # training proportion\n",
    "        #X_train, X_test, y_train, y_test = X[:train_prop], X[train_prop:], y[:train_prop], y[train_prop:]\n",
    "        #print(\"train_prop\", X[:400].shape, train_prop)\n",
    "        kf = KFold(n_splits=10)\n",
    "        errors = []\n",
    "        for train_index, test_index in kf.split(X):\n",
    "            X_train, X_test = X[train_index], X[test_index]\n",
    "            y_train, y_test = y[train_index], y[test_index]\n",
    "            lm = sk.LinearRegression()\n",
    "            model = lm.fit(X_train, y_train)\n",
    "            predictions = lm.predict(X_test)\n",
    "            \n",
    "\n",
    "        #print(predictions)\n",
    "        \n",
    "            errors.append(mean_squared_error(y_test, predictions)**0.5)  # RMSE https://www.kaggle.com/wiki/RootMeanSquaredError\n",
    "        #http://statweb.stanford.edu/~tibs/sta306bfiles/cvwrong.pdf\n",
    "        \n",
    "        error = sum(errors)/len(errors)\n",
    "        print (\"Data set: {} Algorithm: {}  Chunk Size: {} Error: {}\".format(data_set,\n",
    "                                                                          algo_name,\n",
    "                                                                          chunk,\n",
    "                                                                           error\n",
    "                                                                         ))\n",
    " \n",
    "              "
   ]
  },
  {
   "cell_type": "code",
   "execution_count": 16,
   "metadata": {
    "collapsed": true
   },
   "outputs": [],
   "source": [
    "def model_cross( data_x, data_y,  data_set, algorithm=sk.LinearRegression): \n",
    "    \n",
    "    algo_name = algorithm.__name__\n",
    "    last  = 0\n",
    "    for chunk in data_chunks:\n",
    "\n",
    "        if chunk > sumdata_noise.shape[0]: # if chunk is greater than the no. of examples\n",
    "            break\n",
    "\n",
    "        X = data_x.head(n = chunk)\n",
    "        y = data_y.head(n = chunk)\n",
    "        \n",
    "#         X = X.as_matrix()\n",
    "#         y = y.as_matrix()\n",
    "        # this one randomises\n",
    "        #X_train, X_test, y_train, y_test = train_test_split(X, y, test_size=0.2)\n",
    "        #train_prop = int(chunk*.80) # training proportion\n",
    "        #X_train, X_test, y_train, y_test = X[:train_prop], X[train_prop:], y[:train_prop], y[train_prop:]\n",
    "        #print(\"train_prop\", X[:400].shape, train_prop)\n",
    "        \n",
    "        errors = []\n",
    "        lm = sk.LinearRegression()\n",
    "        errors = cross_val_score(lm, X, y, cv=10, scoring= 'neg_mean_squared_error')\n",
    "        \n",
    "\n",
    "        \n",
    "        error = sum(errors)/len(errors)\n",
    "        last = error\n",
    "        print (\"Data set: {} Algorithm: {}  Chunk Size: {} Error: {}\".format(data_set,\n",
    "                                                                          algo_name,\n",
    "                                                                          chunk,\n",
    "                                                                           error\n",
    "                                                                         ))\n",
    "        \n",
    "    return last"
   ]
  },
  {
   "cell_type": "code",
   "execution_count": 17,
   "metadata": {},
   "outputs": [
    {
     "name": "stdout",
     "output_type": "stream",
     "text": [
      "Data set: Noisy Sum Algorithm: LinearRegression  Chunk Size: 100 Error: -10194174898.063906\n",
      "Data set: Noisy Sum Algorithm: LinearRegression  Chunk Size: 500 Error: -7606560416.358994\n",
      "Data set: Noisy Sum Algorithm: LinearRegression  Chunk Size: 1000 Error: -6905913216.797678\n",
      "Data set: Noisy Sum Algorithm: LinearRegression  Chunk Size: 5000 Error: -6953827956.435091\n",
      "Data set: Noisy Sum Algorithm: LinearRegression  Chunk Size: 10000 Error: -7013200149.850792\n",
      "Data set: Noisy Sum Algorithm: LinearRegression  Chunk Size: 50000 Error: -6971692056.937932\n",
      "Data set: Noisy Sum Algorithm: LinearRegression  Chunk Size: 100000 Error: -7024335151.452044\n",
      "Data set: Noisy Sum Algorithm: LinearRegression  Chunk Size: 500000 Error: -6992026416.302065\n"
     ]
    },
    {
     "data": {
      "text/plain": [
       "-6992026416.3020649"
      ]
     },
     "execution_count": 17,
     "metadata": {},
     "output_type": "execute_result"
    }
   ],
   "source": [
    "\n",
    "model_cross(sumdata_noise_X, sumdata_noise_reg_Y,\"Noisy Sum\", sk.LinearRegression )"
   ]
  },
  {
   "cell_type": "code",
   "execution_count": 14,
   "metadata": {},
   "outputs": [
    {
     "data": {
      "image/png": "[encoded data removed]",
      "text/plain": [
       "<matplotlib.figure.Figure at 0x7ffb16dfde48>"
      ]
     },
     "metadata": {},
     "output_type": "display_data"
    }
   ],
   "source": [
    "fig = plt.figure()\n",
    "\n",
    "ax1 = fig.add_subplot(2,2,3)\n",
    "ax1.plot([(1, 2), (3, 4)], [(4, 3), (2, 3)])\n",
    "\n",
    "ax2 = fig.add_subplot(222)\n",
    "ax2.plot([(7, 2), (5, 3)], [(1, 6), (9, 5)])\n",
    "\n",
    "plt.show()"
   ]
  },
  {
   "cell_type": "code",
   "execution_count": null,
   "metadata": {
    "collapsed": true
   },
   "outputs": [],
   "source": []
  },
  {
   "cell_type": "code",
   "execution_count": null,
   "metadata": {
    "collapsed": true
   },
   "outputs": [],
   "source": []
  }
 ],
 "metadata": {
  "kernelspec": {
   "display_name": "Python 3",
   "language": "python",
   "name": "python3"
  },
  "language_info": {
   "codemirror_mode": {
    "name": "ipython",
    "version": 3
   },
   "file_extension": ".py",
   "mimetype": "text/x-python",
   "name": "python",
   "nbconvert_exporter": "python",
   "pygments_lexer": "ipython3",
   "version": "3.6.1"
  }
 },
 "nbformat": 4,
 "nbformat_minor": 2
}

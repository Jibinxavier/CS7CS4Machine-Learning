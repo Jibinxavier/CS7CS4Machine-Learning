{
 "cells": [
  {
   "cell_type": "code",
   "execution_count": 52,
   "metadata": {},
   "outputs": [],
   "source": [
    "sumdata_noise_path = \"./data/with noise/The SUM dataset, with noise.csv\"\n",
    "\n",
    "# the\n",
    "\n",
    "dataset = read.csv(sumdata_noise_path, sep=\";\"\n",
    "                  )\n",
    "\n",
    "\n"
   ]
  },
  {
   "cell_type": "code",
   "execution_count": 53,
   "metadata": {
    "collapsed": true
   },
   "outputs": [],
   "source": [
    "df <- data.frame(dataset)"
   ]
  },
  {
   "cell_type": "code",
   "execution_count": 31,
   "metadata": {},
   "outputs": [],
   "source": [
    "col_to_drop = c('Instance')\n",
    "\n",
    "df <-df[ , !(names(df) %in% 'Instance')]"
   ]
  },
  {
   "cell_type": "code",
   "execution_count": 32,
   "metadata": {},
   "outputs": [
    {
     "data": {
      "text/html": [
       "<ol class=list-inline>\n",
       "\t<li>'Feature.1'</li>\n",
       "\t<li>'Feature.2'</li>\n",
       "\t<li>'Feature.3'</li>\n",
       "\t<li>'Feature.4'</li>\n",
       "\t<li>'Feature.5..meaningless.'</li>\n",
       "\t<li>'Feature.6'</li>\n",
       "\t<li>'Feature.7'</li>\n",
       "\t<li>'Feature.8'</li>\n",
       "\t<li>'Feature.9'</li>\n",
       "\t<li>'Feature.10'</li>\n",
       "\t<li>'Noisy.Target'</li>\n",
       "\t<li>'Noisy.Target.Class'</li>\n",
       "</ol>\n"
      ],
      "text/latex": [
       "\\begin{enumerate*}\n",
       "\\item 'Feature.1'\n",
       "\\item 'Feature.2'\n",
       "\\item 'Feature.3'\n",
       "\\item 'Feature.4'\n",
       "\\item 'Feature.5..meaningless.'\n",
       "\\item 'Feature.6'\n",
       "\\item 'Feature.7'\n",
       "\\item 'Feature.8'\n",
       "\\item 'Feature.9'\n",
       "\\item 'Feature.10'\n",
       "\\item 'Noisy.Target'\n",
       "\\item 'Noisy.Target.Class'\n",
       "\\end{enumerate*}\n"
      ],
      "text/markdown": [
       "1. 'Feature.1'\n",
       "2. 'Feature.2'\n",
       "3. 'Feature.3'\n",
       "4. 'Feature.4'\n",
       "5. 'Feature.5..meaningless.'\n",
       "6. 'Feature.6'\n",
       "7. 'Feature.7'\n",
       "8. 'Feature.8'\n",
       "9. 'Feature.9'\n",
       "10. 'Feature.10'\n",
       "11. 'Noisy.Target'\n",
       "12. 'Noisy.Target.Class'\n",
       "\n",
       "\n"
      ],
      "text/plain": [
       " [1] \"Feature.1\"               \"Feature.2\"              \n",
       " [3] \"Feature.3\"               \"Feature.4\"              \n",
       " [5] \"Feature.5..meaningless.\" \"Feature.6\"              \n",
       " [7] \"Feature.7\"               \"Feature.8\"              \n",
       " [9] \"Feature.9\"               \"Feature.10\"             \n",
       "[11] \"Noisy.Target\"            \"Noisy.Target.Class\"     "
      ]
     },
     "metadata": {},
     "output_type": "display_data"
    }
   ],
   "source": [
    "colnames(df)"
   ]
  },
  {
   "cell_type": "code",
   "execution_count": 33,
   "metadata": {},
   "outputs": [],
   "source": [
    "# this is for linear regression\n",
    "x_linear <-df[ , !(names(df) %in% 'Noisy.Target.Class')]"
   ]
  },
  {
   "cell_type": "code",
   "execution_count": null,
   "metadata": {
    "collapsed": true
   },
   "outputs": [],
   "source": [
    "#http://www.learnbymarketing.com/tutorials/linear-regression-in-r/\n",
    "## + is way of specifying the features"
   ]
  },
  {
   "cell_type": "code",
   "execution_count": 60,
   "metadata": {},
   "outputs": [],
   "source": [
    "multi.fit = lm(Noisy.Target~Feature.1+Feature.2+Feature.3+Feature.4+Feature.5..meaningless.+Feature.6+Feature.7+Feature.8+Feature.9+Feature.10, data=dataset)"
   ]
  },
  {
   "cell_type": "code",
   "execution_count": 61,
   "metadata": {},
   "outputs": [
    {
     "data": {
      "text/plain": [
       "\n",
       "Call:\n",
       "lm(formula = Noisy.Target ~ Feature.1 + Feature.2 + Feature.3 + \n",
       "    Feature.4 + Feature.5..meaningless. + Feature.6 + Feature.7 + \n",
       "    Feature.8 + Feature.9 + Feature.10, data = dataset)\n",
       "\n",
       "Residuals:\n",
       "    Min      1Q  Median      3Q     Max \n",
       "-268622  -44673      23   44638  267634 \n",
       "\n",
       "Coefficients:\n",
       "                          Estimate Std. Error t value Pr(>|t|)    \n",
       "(Intercept)             -2.225e+02  2.127e+02  -1.046    0.296    \n",
       "Feature.1                1.037e+00  1.147e-02  90.381   <2e-16 ***\n",
       "Feature.2                9.688e-01  9.557e-03 101.364   <2e-16 ***\n",
       "Feature.3                9.959e-01  7.968e-03 124.985   <2e-16 ***\n",
       "Feature.4                1.000e+00  6.652e-03 150.408   <2e-16 ***\n",
       "Feature.5..meaningless.  3.203e-03  2.744e-03   1.167    0.243    \n",
       "Feature.6                1.005e+00  4.605e-03 218.122   <2e-16 ***\n",
       "Feature.7                9.985e-01  3.840e-03 260.024   <2e-16 ***\n",
       "Feature.8                9.995e-01  3.202e-03 312.139   <2e-16 ***\n",
       "Feature.9                1.004e+00  2.668e-03 376.301   <2e-16 ***\n",
       "Feature.10               9.971e-01  2.225e-03 448.017   <2e-16 ***\n",
       "---\n",
       "Signif. codes:  0 ‘***’ 0.001 ‘**’ 0.01 ‘*’ 0.05 ‘.’ 0.1 ‘ ’ 1\n",
       "\n",
       "Residual standard error: 80020 on 968124 degrees of freedom\n",
       "Multiple R-squared:  0.9868,\tAdjusted R-squared:  0.9868 \n",
       "F-statistic: 7.241e+06 on 10 and 968124 DF,  p-value: < 2.2e-16\n"
      ]
     },
     "metadata": {},
     "output_type": "display_data"
    }
   ],
   "source": [
    "summary(multi.fit)"
   ]
  },
  {
   "cell_type": "code",
   "execution_count": null,
   "metadata": {
    "collapsed": true
   },
   "outputs": [],
   "source": []
  }
 ],
 "metadata": {
  "kernelspec": {
   "display_name": "R",
   "language": "R",
   "name": "ir"
  },
  "language_info": {
   "codemirror_mode": "r",
   "file_extension": ".r",
   "mimetype": "text/x-r-source",
   "name": "R",
   "pygments_lexer": "r",
   "version": "3.2.3"
  }
 },
 "nbformat": 4,
 "nbformat_minor": 2
}

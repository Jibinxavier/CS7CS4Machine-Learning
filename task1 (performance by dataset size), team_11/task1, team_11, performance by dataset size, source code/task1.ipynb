{
 "cells": [
  {
   "cell_type": "code",
   "execution_count": 3,
   "metadata": {
    "collapsed": false
   },
   "outputs": [],
   "source": [
    "import matplotlib.pyplot as plt\n",
    "import numpy as np\n",
    "from sklearn.linear_model import LinearRegression\n",
    "from sklearn.model_selection import train_test_split\n",
    "from sklearn.metrics import mean_squared_error\n",
    "import pandas as pd\n",
    "from helper import *"
   ]
  },
  {
   "cell_type": "markdown",
   "metadata": {},
   "source": [
    "#### Data urls"
   ]
  },
  {
   "cell_type": "code",
   "execution_count": 4,
   "metadata": {
    "collapsed": true
   },
   "outputs": [],
   "source": [
    "sumdata_url = \"https://www.dropbox.com/sh/euppz607r6gsen2/AABABUTdx7YqCeBquA1Ky7z8a/The%20SUM%20dataset?dl=1#\"\n",
    "housing_price_url = \"https://www.dropbox.com/sh/euppz607r6gsen2/AAAVLZzU4E7ro0BiRzPG3pP8a/House%20Prices?dl=1\"\n",
    "all_urls = [sumdata_url, housing_price_url]"
   ]
  },
  {
   "cell_type": "code",
   "execution_count": 5,
   "metadata": {
    "collapsed": true
   },
   "outputs": [],
   "source": [
    "get_data(all_urls) # retrieves the data if there is no data folder"
   ]
  },
  {
   "cell_type": "code",
   "execution_count": 12,
   "metadata": {
    "collapsed": true
   },
   "outputs": [],
   "source": [
    "sumdata_noise_path = \"data/with noise/The SUM dataset, with noise.csv\"\n",
    "sumdata_path = \"data/without noise/The SUM dataset, without noise.csv\"\n",
    "housing_price_path = \"data/housing dataset.csv\" # has more than 30 features\n",
    "# need one more\n",
    "# what a brilliant idea to name files with space"
   ]
  },
  {
   "cell_type": "code",
   "execution_count": 13,
   "metadata": {
    "collapsed": false
   },
   "outputs": [],
   "source": [
    "data_chunks = [100, 500, 1000, 5000, 10000, 50000, 100000, 500000,\n",
    "1000000, 5000000, 10000000, 50000000, 100000000]"
   ]
  },
  {
   "cell_type": "markdown",
   "metadata": {},
   "source": [
    "## Load data sets sum_noise, sumdata, house_price"
   ]
  },
  {
   "cell_type": "code",
   "execution_count": 14,
   "metadata": {
    "collapsed": false
   },
   "outputs": [],
   "source": [
    "sumdata_noise = pd.read_csv(sumdata_noise_path, delimiter=\";\")"
   ]
  },
  {
   "cell_type": "code",
   "execution_count": 15,
   "metadata": {
    "collapsed": true
   },
   "outputs": [],
   "source": [
    "sumdata = pd.read_csv(sumdata_path, delimiter=\";\")"
   ]
  },
  {
   "cell_type": "code",
   "execution_count": 16,
   "metadata": {
    "collapsed": true
   },
   "outputs": [],
   "source": [
    "housing_price = pd.read_csv(housing_price_path)"
   ]
  },
  {
   "cell_type": "markdown",
   "metadata": {},
   "source": [
    "#### Looking at sum data with noise\n",
    "\n",
    "Dropping the noisy target class as its not numerical. Also feature 5 as its 'meaning less'"
   ]
  },
  {
   "cell_type": "code",
   "execution_count": 73,
   "metadata": {
    "collapsed": false
   },
   "outputs": [],
   "source": [
    "sumdata_noise = sumdata_noise.drop('Noisy Target Class', axis = 1)\n",
    "sumdata_noise = sumdata_noise.drop('Feature 5 (meaningless)', axis = 1)\n",
    "\n",
    "sum_n_data_y = sumdata_noise['Noisy Target']\n",
    "sum_n_data_X = sumdata_noise.drop('Noisy Target', axis = 1) "
   ]
  },
  {
   "cell_type": "markdown",
   "metadata": {},
   "source": [
    "#### Looking at sum data without noise"
   ]
  },
  {
   "cell_type": "code",
   "execution_count": 74,
   "metadata": {
    "collapsed": false
   },
   "outputs": [],
   "source": [
    "sumdata = sumdata.drop('Target Class', axis = 1)\n",
    "sumdata = sumdata.drop('Feature 5 (meaningless)', axis = 1)\n",
    "\n",
    "sumdata_y = sumdata['Target']\n",
    "sumdata_X = sumdata.drop('Target', axis = 1) "
   ]
  },
  {
   "cell_type": "markdown",
   "metadata": {},
   "source": [
    "#### House data"
   ]
  },
  {
   "cell_type": "code",
   "execution_count": null,
   "metadata": {
    "collapsed": true
   },
   "outputs": [],
   "source": [
    "housedata "
   ]
  },
  {
   "cell_type": "markdown",
   "metadata": {},
   "source": [
    "# Didn't do cross validation"
   ]
  },
  {
   "cell_type": "code",
   "execution_count": 15,
   "metadata": {
    "collapsed": false
   },
   "outputs": [
    {
     "data": {
      "text/plain": [
       "(968135, 12)"
      ]
     },
     "execution_count": 15,
     "metadata": {},
     "output_type": "execute_result"
    }
   ],
   "source": [
    "sumdata_noise.shape"
   ]
  },
  {
   "cell_type": "code",
   "execution_count": 89,
   "metadata": {
    "collapsed": false
   },
   "outputs": [],
   "source": [
    "def model( X, y,  data_set, algorithm=LinearRegression): \n",
    "    \n",
    "    algo_name = algorithm.__name__\n",
    "    \n",
    "    for chunk in data_chunks:\n",
    "\n",
    "        if chunk > sumdata_noise.shape[0]: # if chunk is greater than the no. of examples\n",
    "            break\n",
    "\n",
    "        X = X.head(n = chunk)\n",
    "        y = y.head(n = chunk)\n",
    "\n",
    "        X_train, X_test, y_train, y_test = train_test_split(X, y, test_size=0.2)\n",
    "        lm = algorithm()\n",
    "        model = lm.fit(X_train, y_train)\n",
    "        predictions = lm.predict(X_test)\n",
    "\n",
    "        #print(predictions)\n",
    "        \n",
    "        error = mean_squared_error(y_test, predictions)**0.5  # RMSE https://www.kaggle.com/wiki/RootMeanSquaredError\n",
    "        print (\"Data set: {} Algorithm: {}  Chunk Size: {} Error: {}\".format(data_set,\n",
    "                                                                          algo_name,\n",
    "                                                                          chunk,\n",
    "                                                                           error\n",
    "                                                                         ))\n",
    "              \n",
    "         \n",
    "    "
   ]
  },
  {
   "cell_type": "code",
   "execution_count": 90,
   "metadata": {
    "collapsed": false
   },
   "outputs": [
    {
     "name": "stdout",
     "output_type": "stream",
     "text": [
      "Data set: Noisy Sum Algorithm: LinearRegression  Chunk Size: 100 Error: 84705.66263898367\n",
      "Data set: Noisy Sum Algorithm: LinearRegression  Chunk Size: 500 Error: 93989.71430173799\n",
      "Data set: Noisy Sum Algorithm: LinearRegression  Chunk Size: 1000 Error: 85319.2616559062\n",
      "Data set: Noisy Sum Algorithm: LinearRegression  Chunk Size: 5000 Error: 67642.42256245787\n",
      "Data set: Noisy Sum Algorithm: LinearRegression  Chunk Size: 10000 Error: 102962.18215748943\n",
      "Data set: Noisy Sum Algorithm: LinearRegression  Chunk Size: 50000 Error: 73623.02653977406\n",
      "Data set: Noisy Sum Algorithm: LinearRegression  Chunk Size: 100000 Error: 70314.34490255873\n",
      "Data set: Noisy Sum Algorithm: LinearRegression  Chunk Size: 500000 Error: 97231.64688961724\n"
     ]
    }
   ],
   "source": [
    "model(sum_n_data_X, sum_n_data_y,\"Noisy Sum\", LinearRegression )"
   ]
  },
  {
   "cell_type": "code",
   "execution_count": 65,
   "metadata": {
    "collapsed": false
   },
   "outputs": [
    {
     "name": "stdout",
     "output_type": "stream",
     "text": [
      "Data set: Sum without noise Algorithm: LinearRegression  Chunk Size: 100 Score: 1.0\n",
      "Data set: Sum without noise Algorithm: LinearRegression  Chunk Size: 500 Score: 1.0\n",
      "Data set: Sum without noise Algorithm: LinearRegression  Chunk Size: 1000 Score: 1.0\n",
      "Data set: Sum without noise Algorithm: LinearRegression  Chunk Size: 5000 Score: 1.0\n",
      "Data set: Sum without noise Algorithm: LinearRegression  Chunk Size: 10000 Score: 1.0\n",
      "Data set: Sum without noise Algorithm: LinearRegression  Chunk Size: 50000 Score: 1.0\n",
      "Data set: Sum without noise Algorithm: LinearRegression  Chunk Size: 100000 Score: 1.0\n",
      "Data set: Sum without noise Algorithm: LinearRegression  Chunk Size: 500000 Score: 1.0\n"
     ]
    }
   ],
   "source": [
    "model(sumdata_X, sumdata_y,\"Sum without noise\", LinearRegression )"
   ]
  },
  {
   "cell_type": "code",
   "execution_count": null,
   "metadata": {
    "collapsed": true
   },
   "outputs": [],
   "source": []
  }
 ],
 "metadata": {
  "kernelspec": {
   "display_name": "Python 3",
   "language": "python",
   "name": "python3"
  },
  "language_info": {
   "codemirror_mode": {
    "name": "ipython",
    "version": 3
   },
   "file_extension": ".py",
   "mimetype": "text/x-python",
   "name": "python",
   "nbconvert_exporter": "python",
   "pygments_lexer": "ipython3",
   "version": "3.6.0"
  }
 },
 "nbformat": 4,
 "nbformat_minor": 2
}
